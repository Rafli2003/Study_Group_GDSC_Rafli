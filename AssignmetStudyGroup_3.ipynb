{
  "nbformat": 4,
  "nbformat_minor": 0,
  "metadata": {
    "colab": {
      "provenance": []
    },
    "kernelspec": {
      "name": "python3",
      "display_name": "Python 3"
    },
    "language_info": {
      "name": "python"
    }
  },
  "cells": [
    {
      "cell_type": "code",
      "execution_count": 52,
      "metadata": {
        "id": "BEQA4zKEy-3y"
      },
      "outputs": [],
      "source": [
        "import pandas as pd"
      ]
    },
    {
      "cell_type": "code",
      "source": [
        "fileB = '/content/HARGA RUMAH JAKSEL.xlsx'\n",
        "data = pd.read_excel(fileB)"
      ],
      "metadata": {
        "id": "qNDiQcG015Mm"
      },
      "execution_count": 53,
      "outputs": []
    },
    {
      "cell_type": "code",
      "source": [
        "data_info = data.info()\n",
        "data_head = data.head()\n",
        "\n",
        "data_info, data_head"
      ],
      "metadata": {
        "colab": {
          "base_uri": "https://localhost:8080/"
        },
        "id": "oLeE9rZiG7z0",
        "outputId": "bcaccdf4-d963-4311-d4e8-0fbbbd731095"
      },
      "execution_count": 54,
      "outputs": [
        {
          "output_type": "stream",
          "name": "stdout",
          "text": [
            "<class 'pandas.core.frame.DataFrame'>\n",
            "RangeIndex: 1002 entries, 0 to 1001\n",
            "Data columns (total 7 columns):\n",
            " #   Column      Non-Null Count  Dtype \n",
            "---  ------      --------------  ----- \n",
            " 0   Unnamed: 0  1002 non-null   object\n",
            " 1   Unnamed: 1  1002 non-null   object\n",
            " 2   Unnamed: 2  1002 non-null   object\n",
            " 3   Unnamed: 3  1002 non-null   object\n",
            " 4   Unnamed: 4  1002 non-null   object\n",
            " 5   Unnamed: 5  1002 non-null   object\n",
            " 6   Unnamed: 6  1002 non-null   object\n",
            "dtypes: object(7)\n",
            "memory usage: 54.9+ KB\n"
          ]
        },
        {
          "output_type": "execute_result",
          "data": {
            "text/plain": [
              "(None,\n",
              "     Unnamed: 0 Unnamed: 1 Unnamed: 2 Unnamed: 3 Unnamed: 4 Unnamed: 5  \\\n",
              " 0        HARGA         LT         LB        JKT        JKM        GRS   \n",
              " 1  28000000000       1100        700          5          6        ADA   \n",
              " 2  19000000000        824        800          4          4        ADA   \n",
              " 3   4700000000        500        400          4          3        ADA   \n",
              " 4   4900000000        251        300          5          4        ADA   \n",
              " \n",
              "   Unnamed: 6  \n",
              " 0       KOTA  \n",
              " 1     JAKSEL  \n",
              " 2     JAKSEL  \n",
              " 3     JAKSEL  \n",
              " 4     JAKSEL  )"
            ]
          },
          "metadata": {},
          "execution_count": 54
        }
      ]
    },
    {
      "cell_type": "markdown",
      "source": [
        "pada data ini kita dapat melihat terdapat 1002 data dengan total 7 coloum, namun terdapat data informasi yang kurang informatif seperti \"unamed: 0, dll\".\n",
        "\n",
        "Pada bagian ini kita dapat melihat basic informasi dari dataset yang digunakan, dataset memiliki 7 coloum informasi termasuk:\n",
        "\n",
        "1.   Harga\n",
        "2.   LT : Jumlah Luas Tanah\n",
        "3. LB : Jumlah luas Bangunan\n",
        "4. JKT : Jumlah kamar tidur\n",
        "5. JKM : Jumlah kamar mandi\n",
        "6. GRS : Jumlah kapasitas mobil dalam garasi\n",
        "7. Kota\n",
        "\n",
        "namun terdapat data informasi yang kurang informatif seperti \"unamed: 0, dll\".\n",
        "\n",
        "\n"
      ],
      "metadata": {
        "id": "nEqSR51B4jZb"
      }
    },
    {
      "cell_type": "code",
      "source": [
        "data.columns = data.iloc[0]\n",
        "data = data[1:].reset_index(drop=True)"
      ],
      "metadata": {
        "id": "N-K9Ra-T3--R"
      },
      "execution_count": 55,
      "outputs": []
    },
    {
      "cell_type": "code",
      "source": [
        "data_info_updated = data.info()\n",
        "data_head_updated = data.head()\n",
        "\n",
        "data_info_updated, data_head_updated"
      ],
      "metadata": {
        "colab": {
          "base_uri": "https://localhost:8080/"
        },
        "id": "PT_wMHuAECDm",
        "outputId": "f91583a0-ebd6-4a61-edf1-b9369caef5c4"
      },
      "execution_count": 56,
      "outputs": [
        {
          "output_type": "stream",
          "name": "stdout",
          "text": [
            "<class 'pandas.core.frame.DataFrame'>\n",
            "RangeIndex: 1001 entries, 0 to 1000\n",
            "Data columns (total 7 columns):\n",
            " #   Column  Non-Null Count  Dtype \n",
            "---  ------  --------------  ----- \n",
            " 0   HARGA   1001 non-null   object\n",
            " 1   LT      1001 non-null   object\n",
            " 2   LB      1001 non-null   object\n",
            " 3   JKT     1001 non-null   object\n",
            " 4   JKM     1001 non-null   object\n",
            " 5   GRS     1001 non-null   object\n",
            " 6   KOTA    1001 non-null   object\n",
            "dtypes: object(7)\n",
            "memory usage: 54.9+ KB\n"
          ]
        },
        {
          "output_type": "execute_result",
          "data": {
            "text/plain": [
              "(None,\n",
              " 0        HARGA    LT   LB JKT JKM  GRS    KOTA\n",
              " 0  28000000000  1100  700   5   6  ADA  JAKSEL\n",
              " 1  19000000000   824  800   4   4  ADA  JAKSEL\n",
              " 2   4700000000   500  400   4   3  ADA  JAKSEL\n",
              " 3   4900000000   251  300   5   4  ADA  JAKSEL\n",
              " 4  28000000000  1340  575   4   5  ADA  JAKSEL)"
            ]
          },
          "metadata": {},
          "execution_count": 56
        }
      ]
    },
    {
      "cell_type": "markdown",
      "source": [
        "data sudah sesuai namun Harga, LT, LB, JKT, dan JKM harus bertipe numerik."
      ],
      "metadata": {
        "id": "4fA1PAP1Fn9b"
      }
    },
    {
      "cell_type": "code",
      "source": [
        "numeric_columns = ['HARGA', 'LT', 'LB', 'JKT', 'JKM']\n",
        "for col in numeric_columns:\n",
        "  data[col] = pd.to_numeric(data[col], errors='coerce')"
      ],
      "metadata": {
        "id": "XybRjePwEt3R"
      },
      "execution_count": 58,
      "outputs": []
    },
    {
      "cell_type": "code",
      "source": [
        "data_info_cleaned = data.info()\n",
        "data_head_cleaned = data.head()\n",
        "\n",
        "data_info_cleaned, data_head_cleaned"
      ],
      "metadata": {
        "colab": {
          "base_uri": "https://localhost:8080/"
        },
        "id": "_ck4r1DGIIGF",
        "outputId": "f74d099b-6cf8-4812-8660-b149f80031c1"
      },
      "execution_count": 59,
      "outputs": [
        {
          "output_type": "stream",
          "name": "stdout",
          "text": [
            "<class 'pandas.core.frame.DataFrame'>\n",
            "RangeIndex: 1001 entries, 0 to 1000\n",
            "Data columns (total 7 columns):\n",
            " #   Column  Non-Null Count  Dtype \n",
            "---  ------  --------------  ----- \n",
            " 0   HARGA   1001 non-null   int64 \n",
            " 1   LT      1001 non-null   int64 \n",
            " 2   LB      1001 non-null   int64 \n",
            " 3   JKT     1001 non-null   int64 \n",
            " 4   JKM     1001 non-null   int64 \n",
            " 5   GRS     1001 non-null   object\n",
            " 6   KOTA    1001 non-null   object\n",
            "dtypes: int64(5), object(2)\n",
            "memory usage: 54.9+ KB\n"
          ]
        },
        {
          "output_type": "execute_result",
          "data": {
            "text/plain": [
              "(None,\n",
              " 0        HARGA    LT   LB  JKT  JKM  GRS    KOTA\n",
              " 0  28000000000  1100  700    5    6  ADA  JAKSEL\n",
              " 1  19000000000   824  800    4    4  ADA  JAKSEL\n",
              " 2   4700000000   500  400    4    3  ADA  JAKSEL\n",
              " 3   4900000000   251  300    5    4  ADA  JAKSEL\n",
              " 4  28000000000  1340  575    4    5  ADA  JAKSEL)"
            ]
          },
          "metadata": {},
          "execution_count": 59
        }
      ]
    },
    {
      "cell_type": "code",
      "source": [
        "import matplotlib.pyplot as plt\n",
        "import seaborn as sns"
      ],
      "metadata": {
        "id": "qroRudaSIM7Q"
      },
      "execution_count": 60,
      "outputs": []
    },
    {
      "cell_type": "code",
      "source": [
        "sns.set_theme(style=\"whitegrid\")"
      ],
      "metadata": {
        "id": "hB2HtdF8IVEF"
      },
      "execution_count": 61,
      "outputs": []
    },
    {
      "cell_type": "code",
      "source": [
        "plt.figure(figsize=(10, 6))\n",
        "sns.histplot(data['HARGA'], bins=30, kde=True, color=\"skyblue\")\n",
        "plt.title(\"Distribusi Harga Rumah di Jakarta Selatan\", fontsize=16)\n",
        "plt.xlabel(\"Harga Rumah (dalam Rupiah)\", fontsize=12)\n",
        "plt.ylabel(\"Frekuensi\", fontsize=12)\n",
        "plt.tight_layout()\n",
        "plt.show()"
      ],
      "metadata": {
        "colab": {
          "base_uri": "https://localhost:8080/",
          "height": 601
        },
        "id": "A3FmobUpIYWL",
        "outputId": "3cdd1082-c474-4551-d5d5-631ae7c18756"
      },
      "execution_count": 62,
      "outputs": [
        {
          "output_type": "display_data",
          "data": {
            "text/plain": [
              "<Figure size 1000x600 with 1 Axes>"
            ],
            "image/png": "[encoded data removed]"
          },
          "metadata": {}
        }
      ]
    },
    {
      "cell_type": "markdown",
      "source": [
        "Insight:\n",
        "\n",
        "mayoritas rumah dijakarta lebih terjangkau dibandingkan segelintir rumah yang sangat mahal.\n",
        "\n",
        "\n"
      ],
      "metadata": {
        "id": "neb3Z0dJJkXv"
      }
    }
  ]
}